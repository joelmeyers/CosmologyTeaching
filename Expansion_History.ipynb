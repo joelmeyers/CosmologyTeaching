{
 "cells": [
  {
   "cell_type": "code",
   "execution_count": null,
   "metadata": {},
   "outputs": [],
   "source": [
    "## Import the modules that we need\n",
    "## pylab includes numpy and matplotlib\n",
    "import numpy\n",
    "import matplotlib\n",
    "import scipy.interpolate"
   ]
  },
  {
   "cell_type": "code",
   "execution_count": null,
   "metadata": {},
   "outputs": [],
   "source": [
    "## Define some physical constants\n",
    "km_per_Mpc = 3.086e19\n",
    "sec_per_yr = 3.154e7\n",
    "c = 299792.458   ## Speed of light in km/s\n",
    "\n",
    "## Define a dictionary with some default cosmological parameters\n",
    "cosmo_params_default = {'H_0': 67.32, \\\n",
    "                'Omega_m': 0.3158, \\\n",
    "                'Omega_r': 9.4e-5, \\\n",
    "                'Omega_K': 0.0, \\\n",
    "                'w_de': -1}"
   ]
  },
  {
   "cell_type": "code",
   "execution_count": null,
   "metadata": {},
   "outputs": [],
   "source": [
    "## Define some functions useful for computing expansion history\n",
    "## Inputs will include the dictionary of cosmological parameters as defined above\n",
    "\n",
    "def H_of_a(a, cosmo):\n",
    "    \"\"\"Returns Hubble rate at a given scale factor in units of km/s/Mpc\"\"\"\n",
    "    Omega_de = 1. - cosmo['Omega_m'] - cosmo['Omega_r'] - cosmo['Omega_K']\n",
    "    return cosmo['H_0']*numpy.sqrt(cosmo['Omega_r']*a**(-4) + cosmo['Omega_m']*a**(-3) \\\n",
    "                                   + cosmo['Omega_K']*a**(-2) + Omega_de*a**(-3*(1+cosmo['w_de'])))\n",
    "\n",
    "def t_of_a(cosmo):\n",
    "    \"\"\"Returns age of universe at a given scale factor in years\"\"\"\n",
    "    a_array = numpy.geomspace(1.0e-10, 1, num=1000)\n",
    "    t_of_a_array = numpy.cumsum(numpy.diff(a_array) / ( a_array[1:] * H_of_a(a_array[1:], cosmo) ) ) \\\n",
    "                *km_per_Mpc/sec_per_yr\n",
    "    return scipy.interpolate.interp1d(a_array[1:], t_of_a_array, kind = 'cubic')\n",
    "\n",
    "def tau_of_a(cosmo):\n",
    "    \"\"\"Returns conformal time at given scale factor in Mpc\"\"\"\n",
    "    a_array = numpy.geomspace(1.0e-10, 1, num=1000)\n",
    "    tau_of_a_array = numpy.cumsum(numpy.diff(a_array) / ( a_array[1:]**2 * H_of_a(a_array[1:], cosmo) ) ) \\\n",
    "                *c\n",
    "    return scipy.interpolate.interp1d(a_array[1:], tau_of_a_array, kind = 'cubic')\n",
    "\n",
    "def t_of_z(z, cosmo):\n",
    "    \"\"\"Returns age of universe at a given redshift in years\"\"\"\n",
    "    a_of_z = 1./(1.+z)\n",
    "    return t_of_a(cosmo)(a_of_z)\n",
    "    \n",
    "def chi_of_z(z,cosmo):\n",
    "    \"\"\"Returns conformal radial distance to redshift z in Mpc\"\"\"\n",
    "    a_of_z = 1./(1.+z)\n",
    "    return tau_of_a(cosmo)(1.) - tau_of_a(cosmo)(a_of_z)\n",
    "\n",
    "def r_of_z(z, cosmo):\n",
    "    \"\"\"Returns metric radial distance to redshift z in Mpc\"\"\"\n",
    "    if cosmo['Omega_K']<0.:\n",
    "        return numpy.sinh(chi_of_z(z,cosmo)*cosmo['H_0']/c)/cosmo['H_0']*c\n",
    "    elif cosmo['Omega_K']>0.:\n",
    "        return numpy.sin(chi_of_z(z,cosmo)*cosmo['H_0']/c)/cosmo['H_0']*c\n",
    "    else:\n",
    "        return chi_of_z(z,cosmo)\n",
    "    "
   ]
  },
  {
   "cell_type": "code",
   "execution_count": null,
   "metadata": {},
   "outputs": [],
   "source": [
    "##  As an example of how to use this notebook, we will make two plots for each of two cosmologies:\n",
    "##  1) Metric distance as a function of redshift\n",
    "##  2) Age of universe as a function of redshift\n",
    "\n",
    "\n",
    "## First, we define the range of redshifts we are interested in plotting\n",
    "## For plotting convenience, we will sample the range at 200 equally spaced redshifts\n",
    "zs = numpy.arange(0., 2., 0.01)\n",
    "\n",
    "\n",
    "## Now we define dictionaries of cosmological parameters for two cosmologies using the format above\n",
    "cosmo_params_flat = {'H_0': 67.32, \\\n",
    "                'Omega_m': 0.3158, \\\n",
    "                'Omega_r': 9.4e-5, \\\n",
    "                'Omega_K': 0.0, \\\n",
    "                'w_de': -1}\n",
    "\n",
    "cosmo_params_open = {'H_0': 67.32, \\\n",
    "                'Omega_m': 0.3158, \\\n",
    "                'Omega_r': 9.4e-5, \\\n",
    "                'Omega_K': 0.68, \\\n",
    "                'w_de': -1}\n",
    "\n",
    "\n",
    "##  We now calculate the metric distance at the redshifts of interest for the two cosmologies\n",
    "flat_metric_distance = r_of_z(zs, cosmo_params_flat)\n",
    "open_metric_distance = r_of_z(zs, cosmo_params_open)\n",
    "\n",
    "##  We do the same for the age as a function of redshift\n",
    "flat_age = t_of_z(zs, cosmo_params_flat)\n",
    "open_age = t_of_z(zs, cosmo_params_open)"
   ]
  },
  {
   "cell_type": "code",
   "execution_count": null,
   "metadata": {},
   "outputs": [],
   "source": [
    "#Plot d_m*H_0 / c versus redshift for two different cosmologies\n",
    "figure('Metric Distance')\n",
    "clf()\n",
    "plot(zs, flat_metric_distance*cosmo_params_flat['H_0']/c, lw = 2, label = 'Flat Model')\n",
    "plot(zs, open_metric_distance*cosmo_params_open['H_0']/c, lw = 2, label = 'Open Model')\n",
    "xlabel(r'$z$')\n",
    "ylabel(r'$d_\\mathrm{m}H_0$')\n",
    "legend()"
   ]
  },
  {
   "cell_type": "code",
   "execution_count": null,
   "metadata": {},
   "outputs": [],
   "source": [
    "#Plot age versus redshift for two different cosmologies\n",
    "figure('Age')\n",
    "clf()\n",
    "plot(zs, flat_age, lw = 2, label = 'Flat Model')\n",
    "plot(zs, open_age, lw = 2, label = 'Open Model')\n",
    "xlabel(r'$z$')\n",
    "ylabel(r'$t(z)\\, [\\mathrm{yrs}]$')\n",
    "legend()"
   ]
  },
  {
   "cell_type": "code",
   "execution_count": null,
   "metadata": {},
   "outputs": [],
   "source": []
  }
 ],
 "metadata": {
  "kernelspec": {
   "display_name": "Python 2",
   "language": "python",
   "name": "python2"
  },
  "language_info": {
   "codemirror_mode": {
    "name": "ipython",
    "version": 2
   },
   "file_extension": ".py",
   "mimetype": "text/x-python",
   "name": "python",
   "nbconvert_exporter": "python",
   "pygments_lexer": "ipython2",
   "version": "2.7.14"
  }
 },
 "nbformat": 4,
 "nbformat_minor": 2
}
